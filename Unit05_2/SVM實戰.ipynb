{
 "cells": [
  {
   "cell_type": "markdown",
   "metadata": {},
   "source": [
    "# 乳癌資料庫預測SVM分類\n",
    ">使用scikit-learn 機器學習套件裡的SVR演算法\n",
    "\n",
    "* (一)引入函式庫及內建乳癌資料集<br>\n",
    "引入之函式庫如下<br>\n",
    "sklearn.datasets: 用來匯入內建之乳癌資料集`datasets.load_breast_cancer()`<br>\n",
    "sklearn.SVR: 支持向量機回歸分析之演算法<br>\n",
    "matplotlib.pyplot: 用來繪製影像"
   ]
  },
  {
   "cell_type": "code",
   "execution_count": 20,
   "metadata": {},
   "outputs": [],
   "source": [
    "%matplotlib inline\n",
    "import numpy as np\n",
    "from sklearn import svm\n",
    "from sklearn import datasets\n",
    "from sklearn.model_selection import train_test_split\n",
    "from sklearn.metrics import accuracy_score"
   ]
  },
  {
   "cell_type": "markdown",
   "metadata": {},
   "source": [
    "## Step1. 下載資料"
   ]
  },
  {
   "cell_type": "code",
   "execution_count": 21,
   "metadata": {},
   "outputs": [],
   "source": [
    "breast_cancer=datasets.load_breast_cancer()"
   ]
  },
  {
   "cell_type": "code",
   "execution_count": 28,
   "metadata": {},
   "outputs": [
    {
     "name": "stdout",
     "output_type": "stream",
     "text": [
      "dict_keys(['data', 'target', 'frame', 'target_names', 'DESCR', 'feature_names', 'filename', 'data_module'])\n",
      "['mean radius' 'mean texture' 'mean perimeter' 'mean area'\n",
      " 'mean smoothness' 'mean compactness' 'mean concavity'\n",
      " 'mean concave points' 'mean symmetry' 'mean fractal dimension'\n",
      " 'radius error' 'texture error' 'perimeter error' 'area error'\n",
      " 'smoothness error' 'compactness error' 'concavity error'\n",
      " 'concave points error' 'symmetry error' 'fractal dimension error'\n",
      " 'worst radius' 'worst texture' 'worst perimeter' 'worst area'\n",
      " 'worst smoothness' 'worst compactness' 'worst concavity'\n",
      " 'worst concave points' 'worst symmetry' 'worst fractal dimension']\n",
      "['malignant' 'benign']\n"
     ]
    }
   ],
   "source": [
    "x=breast_cancer.data\n",
    "y=breast_cancer.target\n",
    "print(breast_cancer.keys())\n",
    "print(breast_cancer.feature_names)\n",
    "print(breast_cancer.target_names)"
   ]
  },
  {
   "cell_type": "markdown",
   "metadata": {},
   "source": [
    "## Step2. 區分訓練集與測試集"
   ]
  },
  {
   "cell_type": "code",
   "execution_count": 23,
   "metadata": {},
   "outputs": [],
   "source": [
    "X_train, X_test, y_train, y_test = train_test_split(x, y,test_size=0.3,random_state=0)"
   ]
  },
  {
   "cell_type": "markdown",
   "metadata": {},
   "source": [
    "## Step3. 建模"
   ]
  },
  {
   "cell_type": "code",
   "execution_count": 24,
   "metadata": {},
   "outputs": [
    {
     "data": {
      "text/plain": [
       "SVR(C=1)"
      ]
     },
     "execution_count": 24,
     "metadata": {},
     "output_type": "execute_result"
    }
   ],
   "source": [
    "clf=svm.SVR(C=1, kernel='rbf')\n",
    "clf.fit(X_train,y_train)"
   ]
  },
  {
   "cell_type": "markdown",
   "metadata": {},
   "source": [
    "## Step4. 預測\n",
    "\n",
    "```\n",
    "\n",
    "```\n"
   ]
  },
  {
   "cell_type": "code",
   "execution_count": 25,
   "metadata": {},
   "outputs": [
    {
     "data": {
      "text/plain": [
       "array([ 0.54607601,  0.96305203,  0.93405392,  0.68104488,  1.11138949,\n",
       "        1.03248658,  1.09954986,  1.06754561,  0.9196294 ,  1.07636554,\n",
       "        0.71525273,  0.73589283,  1.04076052,  0.40409995,  0.72699984,\n",
       "        0.19112493,  0.99851654,  0.01185003,  0.10011276,  0.05923947,\n",
       "        0.33009765,  0.36677789,  0.92845289,  0.97984279,  0.03112265,\n",
       "        0.92865257,  1.00986621,  0.87685516,  0.92753926, -0.06154847,\n",
       "        1.04942363,  0.03565352,  0.85031877,  0.11170984,  1.03990178,\n",
       "        0.3942359 ,  0.82460578, -0.05467892,  0.8092099 ,  0.25871978,\n",
       "        0.50199072,  0.98900302,  0.14491648,  1.05251517,  0.76468785,\n",
       "        0.0800073 ,  1.00448426,  0.87013695,  1.07259773,  0.42897365,\n",
       "        0.05768615,  0.78230873, -0.09738488,  1.04082275,  1.02746332,\n",
       "        1.05675064,  1.07436055,  0.99802177,  1.01821602,  0.09930412,\n",
       "        0.65007339,  0.04268792,  1.05711736,  1.00326073, -0.08585508,\n",
       "        0.96004773,  0.10068786, -0.10083789, -0.01714731,  1.01222814,\n",
       "        0.59474705, -0.08296917,  1.03638344,  0.8339759 , -0.08997356,\n",
       "        0.94978811,  0.98240056,  1.01107745,  0.97558057,  0.96346438,\n",
       "        0.22097857, -0.03323339, -0.04321535,  1.09593218,  0.28722058,\n",
       "        1.02908565,  0.87257006,  0.97067041, -0.10877505, -0.01546025,\n",
       "        1.03994555,  0.39298841,  0.62568203,  0.53263252,  0.98344196,\n",
       "        1.03235286, -0.23447214,  0.92450756,  0.99295571,  1.00369075,\n",
       "        1.01114165,  1.03904531,  0.81341481,  0.87965327, -0.09926367,\n",
       "        1.00714379,  0.04006068,  0.82534364,  0.42220432,  0.45226949,\n",
       "        0.92705073,  0.01180776, -0.07602474,  0.64710054,  1.02725499,\n",
       "        0.96363712,  0.53749625,  1.09372339,  0.89336785,  0.99238371,\n",
       "        0.99553073,  1.01699223,  0.77059407,  1.02969608, -0.03902426,\n",
       "        0.97742089,  0.568796  ,  1.06228614,  1.07722716,  1.07302433,\n",
       "       -0.06267997,  0.97286531,  0.96180347,  0.94150289,  1.03511909,\n",
       "        1.0816698 ,  0.69184494,  0.42161839, -0.03485896,  1.07635809,\n",
       "        1.00978049,  1.04465153,  0.08065232,  1.03375304,  1.08431868,\n",
       "       -0.02696177,  0.79097041,  0.29994267,  0.9754933 ,  0.90667332,\n",
       "        1.05385665,  0.90747354,  0.98764212,  0.80865985,  1.05914833,\n",
       "        0.47837928,  0.80616419,  0.55465153,  1.00781094, -0.16466297,\n",
       "       -0.03575054,  1.03410104,  1.00198162,  0.02791281,  1.0715677 ,\n",
       "        0.14456678,  0.45423552, -0.00405451,  0.86394969,  0.99577303,\n",
       "        1.03513443])"
      ]
     },
     "execution_count": 25,
     "metadata": {},
     "output_type": "execute_result"
    }
   ],
   "source": [
    "clf.predict(X_test)"
   ]
  },
  {
   "cell_type": "markdown",
   "metadata": {},
   "source": [
    "## Step5. 準確度分析"
   ]
  },
  {
   "cell_type": "code",
   "execution_count": 26,
   "metadata": {},
   "outputs": [
    {
     "name": "stdout",
     "output_type": "stream",
     "text": [
      "0.7176603959414389\n",
      "0.7788433943195671\n"
     ]
    }
   ],
   "source": [
    "print(clf.score(X_train,y_train))\n",
    "print(clf.score(X_test, y_test))"
   ]
  },
  {
   "cell_type": "code",
   "execution_count": null,
   "metadata": {},
   "outputs": [],
   "source": []
  }
 ],
 "metadata": {
  "kernelspec": {
   "display_name": "Python 3",
   "language": "python",
   "name": "python3"
  },
  "language_info": {
   "codemirror_mode": {
    "name": "ipython",
    "version": 3
   },
   "file_extension": ".py",
   "mimetype": "text/x-python",
   "name": "python",
   "nbconvert_exporter": "python",
   "pygments_lexer": "ipython3",
   "version": "3.9.13"
  }
 },
 "nbformat": 4,
 "nbformat_minor": 2
}
